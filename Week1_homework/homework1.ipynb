{
 "cells": [
  {
   "cell_type": "markdown",
   "metadata": {},
   "source": [
    "## Original C code"
   ]
  },
  {
   "cell_type": "code",
   "execution_count": null,
   "metadata": {},
   "outputs": [],
   "source": [
    "# include <stdio.h>\n",
    "#define SIZE 5\n",
    "/*5개의 숫자 값을 콘솔에서 입력 받기 위한 단순 매크로(define)랑 printf함수 선언*/\n",
    "void main()\n",
    "{\n",
    "\tint number[SIZE];\n",
    "\tint i = 0;\n",
    "\tprintf(\"과제 [배열 구현 프로그램] \\n\");\n",
    "\tprintf(\"총 5개의 숫자를 입력하시오. \\n\");\n",
    "\t/*입력를 받기 위해  scanf함수 선언하고 for문을 정하고 i범위를 i < SIZE라고 정함, 그리고 I++를 함. */\n",
    "\tfor (i = 0; i < SIZE; i++)\n",
    "\t{\n",
    "\t\tprintf(\"입력 : \");\n",
    "\t\tscanf(\"%d\", &number[i]);\n",
    "\t}\n",
    "\t/*입력 순서의 역순서로 나타나기 위해 for문에 SIZE -1과 i>=0, i-- 선언*/\n",
    "\tfor (i = SIZE - 1; i >= 0; i--)\n",
    "\t{\n",
    "\t\tprintf(\"i[%d]의 주소 = %d, 데이터 = %d \\n\", i, &number[i], number[i]);\n",
    "\t}\n",
    "\tsystem(\"pause\");\n",
    "}"
   ]
  },
  {
   "cell_type": "code",
   "execution_count": null,
   "metadata": {},
   "outputs": [],
   "source": [
    "과제 [배열 구현 프로그램]\n",
    "총 5개의 숫자를 입력하시오.\n",
    "입력 : 10\n",
    "입력 : 20\n",
    "입력 : 30\n",
    "입력 : 40\n",
    "입력 : 50\n",
    "i[4]의 주소 = -1718618040, 데이터 = 50\n",
    "i[3]의 주소 = -1718618044, 데이터 = 40\n",
    "i[2]의 주소 = -1718618048, 데이터 = 30\n",
    "i[1]의 주소 = -1718618052, 데이터 = 20\n",
    "i[0]의 주소 = -1718618056, 데이터 = 10\n",
    "계속하려면 아무 키나 누르십시오 . . ."
   ]
  },
  {
   "cell_type": "markdown",
   "metadata": {},
   "source": [
    "## Python code"
   ]
  },
  {
   "cell_type": "code",
   "execution_count": 1,
   "metadata": {},
   "outputs": [
    {
     "name": "stdout",
     "output_type": "stream",
     "text": [
      "과제 [배열 구현 프로그램] \n",
      "\n",
      "총 5개의 숫자를 입력하시오.\n",
      "\n",
      "입력 : 10\n",
      "입력 : 20\n",
      "입력 : 30\n",
      "입력 : 40\n",
      "입력 : 50\n"
     ]
    }
   ],
   "source": [
    "size = 5\n",
    "\n",
    "print(\"과제 [배열 구현 프로그램] \\n\")\n",
    "print(\"총 5개의 숫자를 입력하시오.\\n\")\n",
    "\n",
    "number_list = list()\n",
    "append = number_list.append\n",
    "\n",
    "for i in range(size):\n",
    "    number = int(input(\"입력 : \"))\n",
    "    append(number)"
   ]
  },
  {
   "cell_type": "code",
   "execution_count": 2,
   "metadata": {},
   "outputs": [
    {
     "data": {
      "text/plain": [
       "[10, 20, 30, 40, 50]"
      ]
     },
     "execution_count": 2,
     "metadata": {},
     "output_type": "execute_result"
    }
   ],
   "source": [
    "number_list"
   ]
  },
  {
   "cell_type": "code",
   "execution_count": 3,
   "metadata": {},
   "outputs": [
    {
     "name": "stdout",
     "output_type": "stream",
     "text": [
      "i[4]의 주소 = 140731155326896, 데이터 = 50\n",
      "i[3]의 주소 = 140731155326576, 데이터 = 40\n",
      "i[2]의 주소 = 140731155326256, 데이터 = 30\n",
      "i[1]의 주소 = 140731155325936, 데이터 = 20\n",
      "i[0]의 주소 = 140731155325616, 데이터 = 10\n"
     ]
    }
   ],
   "source": [
    "for i in range(size-1, -1, -1):\n",
    "    print(\"i[{}]의 주소 = {}, 데이터 = {}\".format(i, id(number_list[i]),number_list[i]))"
   ]
  }
 ],
 "metadata": {
  "kernelspec": {
   "display_name": "Python 3",
   "language": "python",
   "name": "python3"
  },
  "language_info": {
   "codemirror_mode": {
    "name": "ipython",
    "version": 3
   },
   "file_extension": ".py",
   "mimetype": "text/x-python",
   "name": "python",
   "nbconvert_exporter": "python",
   "pygments_lexer": "ipython3",
   "version": "3.7.6"
  },
  "varInspector": {
   "cols": {
    "lenName": 16,
    "lenType": 16,
    "lenVar": 40
   },
   "kernels_config": {
    "python": {
     "delete_cmd_postfix": "",
     "delete_cmd_prefix": "del ",
     "library": "var_list.py",
     "varRefreshCmd": "print(var_dic_list())"
    },
    "r": {
     "delete_cmd_postfix": ") ",
     "delete_cmd_prefix": "rm(",
     "library": "var_list.r",
     "varRefreshCmd": "cat(var_dic_list()) "
    }
   },
   "types_to_exclude": [
    "module",
    "function",
    "builtin_function_or_method",
    "instance",
    "_Feature"
   ],
   "window_display": false
  }
 },
 "nbformat": 4,
 "nbformat_minor": 4
}
